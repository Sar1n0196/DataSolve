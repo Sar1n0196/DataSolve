{
 "cells": [
  {
   "cell_type": "code",
   "execution_count": 1,
   "metadata": {},
   "outputs": [
    {
     "data": {
      "text/plain": [
       "['Examinations',\n",
       " 'Securities Sales',\n",
       " 'Market Risk',\n",
       " 'Regulatory Actions',\n",
       " 'Compliance Management',\n",
       " 'Information Filing',\n",
       " 'Legal Proceedings',\n",
       " 'Fees and Charges',\n",
       " 'Exemptions',\n",
       " 'Financial Crime',\n",
       " 'Contract Provisions',\n",
       " 'Securities Clearing',\n",
       " 'Listing',\n",
       " 'Securities Issuing',\n",
       " 'Payments and Settlements',\n",
       " 'Natural Disasters',\n",
       " 'Banking',\n",
       " 'Regulatory Reporting',\n",
       " 'Licensing',\n",
       " 'Risk Management',\n",
       " 'Licensure and certification',\n",
       " 'Consumer protection',\n",
       " 'Corporate Governance',\n",
       " 'Accounting and Finance',\n",
       " 'Legal',\n",
       " 'Fraud',\n",
       " 'Antitrust',\n",
       " 'Trade Pricing',\n",
       " 'Money Services',\n",
       " 'Securities Settlement',\n",
       " 'Delivery',\n",
       " 'Monetary and Economic Policy',\n",
       " 'Powers and Duties',\n",
       " 'Insurance',\n",
       " 'Trade Settlement',\n",
       " 'Market Abuse',\n",
       " 'Commodities Trading',\n",
       " 'Broker Dealer',\n",
       " 'Securities Management',\n",
       " 'Records Maintenance',\n",
       " 'Required Disclosures',\n",
       " 'Quotation',\n",
       " 'Definitions',\n",
       " 'Research',\n",
       " 'Financial Accounting',\n",
       " 'Liquidity Risk',\n",
       " 'Corporate Communications',\n",
       " 'Forms',\n",
       " 'Money-Laundering and Terrorist Financing',\n",
       " 'IT Risk']"
      ]
     },
     "execution_count": 1,
     "metadata": {},
     "output_type": "execute_result"
    }
   ],
   "source": [
    "suyog = '''Examinations,Securities Sales,Market Risk,Regulatory Actions,Compliance Management,Information Filing,Legal Proceedings,Fees and Charges,Exemptions,Financial Crime,Contract Provisions,Securities Clearing,Listing,Securities Issuing,Payments and Settlements,Natural Disasters,Banking,Regulatory Reporting,Licensing,Risk Management,Licensure and certification,Consumer protection,Corporate Governance,Accounting and Finance,Legal,Fraud,Antitrust,Trade Pricing,Money Services,Securities Settlement,Delivery,Monetary and Economic Policy,Powers and Duties,Insurance,Trade Settlement,Market Abuse,Commodities Trading,Broker Dealer,Securities Management,Records Maintenance,Required Disclosures,Quotation,Definitions,Research,Financial Accounting,Liquidity Risk,Corporate Communications,Forms,Money-Laundering and Terrorist Financing,IT Risk'''\n",
    "\n",
    "sushrut = [i for i in suyog.split(\",\")]\n",
    "\n",
    "sushrut"
   ]
  }
 ],
 "metadata": {
  "kernelspec": {
   "display_name": "Python 3.9.13 ('data-solve')",
   "language": "python",
   "name": "python3"
  },
  "language_info": {
   "codemirror_mode": {
    "name": "ipython",
    "version": 3
   },
   "file_extension": ".py",
   "mimetype": "text/x-python",
   "name": "python",
   "nbconvert_exporter": "python",
   "pygments_lexer": "ipython3",
   "version": "3.9.13"
  },
  "orig_nbformat": 4,
  "vscode": {
   "interpreter": {
    "hash": "fbb98dd614b8b15df8662d9cc9a47c2e2126f9d311487ecfbfd723e062b9e387"
   }
  }
 },
 "nbformat": 4,
 "nbformat_minor": 2
}
